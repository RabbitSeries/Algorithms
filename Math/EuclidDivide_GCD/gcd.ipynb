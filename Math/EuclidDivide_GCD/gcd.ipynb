{
 "cells": [
  {
   "cell_type": "code",
   "execution_count": 29,
   "metadata": {},
   "outputs": [],
   "source": [
    "def gcd(a: int, b: int):\n",
    "    return b if a % b == 0 else gcd(b, a % b)\n",
    "# 2*3*4 * 3*7 / 3\n",
    "\n",
    "\n",
    "def lcm(a: int, b: int):\n",
    "    return a * b / gcd(a, b)\n",
    "\n",
    "\n",
    "def getCM(a: int, b: int, r: int):\n",
    "    for i in range(r):\n",
    "        print(\"%d\" % ((i+1) * a * b / gcd(a, b)), end=' ')\n",
    "\n",
    "\n",
    "def getDualList(a: int, b: int, r: int):\n",
    "    listA = list(i * a for i in range(1, r+1))\n",
    "    listB = list(i * b for i in range(1, r+1))\n",
    "    result: list[str] = list()\n",
    "    pa, pb = 0, 0\n",
    "    for i in range(r):\n",
    "        if listA[pa] > listB[pb]:\n",
    "            result.append(str(listB[pb]))\n",
    "            pb = pb + 1\n",
    "        elif listA[pa] == listB[pb]:\n",
    "            result.append(str(listB[pb]) + \"*\")\n",
    "            pa = pa + 1\n",
    "            pb = pb + 1\n",
    "        else:\n",
    "            result.append(listA[pa])\n",
    "            pa = pa + 1\n",
    "    for num in result:\n",
    "        print(num, end=' ')"
   ]
  },
  {
   "cell_type": "code",
   "execution_count": 30,
   "metadata": {},
   "outputs": [
    {
     "data": {
      "text/plain": [
       "1"
      ]
     },
     "execution_count": 30,
     "metadata": {},
     "output_type": "execute_result"
    }
   ],
   "source": [
    "gcd(24 , 21)\n",
    "\n",
    "gcd(24 , 23)"
   ]
  },
  {
   "cell_type": "code",
   "execution_count": 31,
   "metadata": {},
   "outputs": [
    {
     "data": {
      "text/plain": [
       "24.0"
      ]
     },
     "execution_count": 31,
     "metadata": {},
     "output_type": "execute_result"
    }
   ],
   "source": [
    "lcm(12,8)"
   ]
  },
  {
   "cell_type": "code",
   "execution_count": 32,
   "metadata": {},
   "outputs": [
    {
     "name": "stdout",
     "output_type": "stream",
     "text": [
      "21 42 63 84 105 "
     ]
    }
   ],
   "source": [
    "getCM(3,7,5)"
   ]
  },
  {
   "cell_type": "code",
   "execution_count": 33,
   "metadata": {},
   "outputs": [
    {
     "name": "stdout",
     "output_type": "stream",
     "text": [
      "3 6 7 9 12 14 15 18 21* 24 27 28 30 33 35 36 39 42* 45 48 49 51 54 56 57 60 63* 66 69 70 72 75 77 78 81 84* 87 90 91 93 96 98 99 102 105* 108 111 112 114 117 119 120 123 126* 129 132 133 135 138 140 141 144 147* 150 153 154 156 159 161 162 165 168* 171 174 175 177 180 182 183 186 189* 192 195 196 198 201 203 204 207 210* 213 216 217 219 222 224 225 228 231* 234 "
     ]
    }
   ],
   "source": [
    "getDualList(3,7,100)"
   ]
  }
 ],
 "metadata": {
  "kernelspec": {
   "display_name": "base",
   "language": "python",
   "name": "python3"
  },
  "language_info": {
   "codemirror_mode": {
    "name": "ipython",
    "version": 3
   },
   "file_extension": ".py",
   "mimetype": "text/x-python",
   "name": "python",
   "nbconvert_exporter": "python",
   "pygments_lexer": "ipython3",
   "version": "3.10.9"
  }
 },
 "nbformat": 4,
 "nbformat_minor": 2
}
